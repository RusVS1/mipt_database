{
 "cells": [
  {
   "cell_type": "code",
   "execution_count": null,
   "metadata": {},
   "outputs": [],
   "source": [
    "import psycopg2\n",
    "\n",
    "try:\n",
    "    connection = psycopg2.connect(\n",
    "        user=\"postgres\",\n",
    "        password=\"postgres\",\n",
    "        host=\"localhost\",\n",
    "        port=\"5432\",\n",
    "        database=\"pg_db\"\n",
    "    )\n",
    "    cursor = connection.cursor()\n",
    "    print(\"connected\")\n",
    "except (Exception, psycopg2.Error):\n",
    "    print(\"Connection error\")"
   ]
  },
  {
   "cell_type": "code",
   "execution_count": null,
   "metadata": {},
   "outputs": [],
   "source": [
    "cursor.execute(\"\"\"\n",
    "        INSERT INTO items (item_name, category, creation_time, create_rank, rarity)\n",
    "        VALUES (%s, %s, %s, %s, %s);\n",
    "        \"\"\", (\"Protea Blueprint\", \"Waframe part\", \"3 day\", 0, \"prime\"))"
   ]
  },
  {
   "cell_type": "code",
   "execution_count": 106,
   "metadata": {},
   "outputs": [],
   "source": [
    "import random\n",
    "from datetime import datetime\n",
    "\n",
    "cursor.execute(\"SELECT seller_nickname FROM sellers;\")\n",
    "sellers = [i[0] for i in cursor.fetchall()]\n",
    "dates = [datetime(2024, 5, i, 1, 1, 1) for i in range(6, 13)]\n",
    "\n",
    "for i in range(100):\n",
    "    price = random.randint(50, 100)\n",
    "    seller = sellers[random.randint(0, len(sellers) - 1)]\n",
    "    date = dates[random.randint(0, len(dates) - 1)]\n",
    "    cursor.execute(\"\"\"\n",
    "            INSERT INTO lots_history (seller, item, date_put, sale_date, price, rank)\n",
    "            VALUES (%s, %s, %s, %s, %s, %s);\n",
    "        \"\"\", (seller, \"Protea Blueprint\", datetime(2024, 5, 5, 1, 1, 1), date, price, None))"
   ]
  },
  {
   "cell_type": "code",
   "execution_count": null,
   "metadata": {},
   "outputs": [],
   "source": [
    "import matplotlib.pyplot as plt\n",
    "\n",
    "cursor.execute(\"\"\"\n",
    "        SELECT DATE(sale_date) AS date,\n",
    "                AVG(price) AS average_price,\n",
    "                MAX(price) AS max_price,\n",
    "                MIN(price) AS min_price\n",
    "        FROM lots_history\n",
    "        WHERE sale_date BETWEEN '2024-05-06' AND '2024-05-13'\n",
    "                AND item = 'Protea Blueprint'\n",
    "        GROUP BY date\n",
    "        ORDER BY date;\n",
    "        \"\"\")\n",
    "\n",
    "result = cursor.fetchall()\n",
    "days = [i[0] for i in result]\n",
    "avg_prices = [i[1] for i in result]\n",
    "max_prices = [i[2] for i in result]\n",
    "min_prices = [i[3] for i in result]\n",
    "\n",
    "for day, max_price in zip(days, max_prices):\n",
    "    plt.plot(day, max_price, marker='o', color='red', markersize=8)\n",
    "\n",
    "for day, min_price in zip(days, min_prices):\n",
    "    plt.plot(day, min_price, marker='o', color='green', markersize=8)\n",
    "\n",
    "plt.plot(days, avg_prices, marker='o', linestyle='-')\n",
    "plt.title('Средняя цена по дням')\n",
    "plt.xlabel('Дата')\n",
    "plt.ylabel('Цена')\n",
    "plt.xticks(rotation=45)\n",
    "plt.grid(True)\n",
    "plt.tight_layout()\n",
    "plt.show()"
   ]
  },
  {
   "cell_type": "code",
   "execution_count": null,
   "metadata": {},
   "outputs": [],
   "source": [
    "cursor.execute(\"\"\"\n",
    "        SELECT items_categories.category_name,\n",
    "            COUNT(active_lots.id) AS number_of_lots\n",
    "        FROM items_categories\n",
    "            INNER JOIN items ON items_categories.category_name = items.category\n",
    "            INNER JOIN active_lots ON items.item_name = active_lots.item\n",
    "        GROUP BY items_categories.category_name;\n",
    "        \"\"\")\n",
    "result = cursor.fetchall()\n",
    "categories = [i[0] for i in result]\n",
    "items = [i[1] for i in result]\n",
    "\n",
    "plt.figure(figsize=(6, 6))\n",
    "plt.pie(items, labels=categories, autopct='%1.1f%%', startangle=120)\n",
    "plt.title('Распределение товаров по категориям')\n",
    "plt.axis('equal')\n",
    "plt.tight_layout()\n",
    "plt.show()\n"
   ]
  },
  {
   "cell_type": "code",
   "execution_count": 112,
   "metadata": {},
   "outputs": [],
   "source": [
    "cursor.close()\n",
    "connection.close()"
   ]
  }
 ],
 "metadata": {
  "kernelspec": {
   "display_name": "Python 3",
   "language": "python",
   "name": "python3"
  },
  "language_info": {
   "codemirror_mode": {
    "name": "ipython",
    "version": 3
   },
   "file_extension": ".py",
   "mimetype": "text/x-python",
   "name": "python",
   "nbconvert_exporter": "python",
   "pygments_lexer": "ipython3",
   "version": "3.10.12"
  }
 },
 "nbformat": 4,
 "nbformat_minor": 2
}
